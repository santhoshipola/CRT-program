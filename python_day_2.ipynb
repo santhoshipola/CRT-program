{
  "nbformat": 4,
  "nbformat_minor": 0,
  "metadata": {
    "colab": {
      "name": "python day 2",
      "provenance": [],
      "include_colab_link": true
    },
    "kernelspec": {
      "name": "python3",
      "display_name": "Python 3"
    }
  },
  "cells": [
    {
      "cell_type": "markdown",
      "metadata": {
        "id": "view-in-github",
        "colab_type": "text"
      },
      "source": [
        "<a href=\"https://colab.research.google.com/github/santhoshipola/CRT-program/blob/master/python_day_2.ipynb\" target=\"_parent\"><img src=\"https://colab.research.google.com/assets/colab-badge.svg\" alt=\"Open In Colab\"/></a>"
      ]
    },
    {
      "cell_type": "code",
      "metadata": {
        "id": "drnwXk-vVqF0",
        "colab_type": "code",
        "colab": {
          "base_uri": "https://localhost:8080/",
          "height": 51
        },
        "outputId": "a8476173-4de1-498c-af4d-4fec2a5096dd"
      },
      "source": [
        "n=int(input(\"num\"))\n",
        "i=1\n",
        "while i<=n:\n",
        "    print(i,end=' ')\n",
        "    i=i+1\n",
        "  "
      ],
      "execution_count": 1,
      "outputs": [
        {
          "output_type": "stream",
          "text": [
            "num10\n",
            "1 2 3 4 5 6 7 8 9 10 "
          ],
          "name": "stdout"
        }
      ]
    },
    {
      "cell_type": "code",
      "metadata": {
        "id": "d2GeavDMXm6X",
        "colab_type": "code",
        "colab": {
          "base_uri": "https://localhost:8080/",
          "height": 119
        },
        "outputId": "126e0203-b674-46b9-ed4c-cb2338ca7cda"
      },
      "source": [
        "n=int(input(\"num\"))\n",
        "i=1\n",
        "while i<=n:\n",
        "    print(i)\n",
        "    i=i+1\n",
        "  "
      ],
      "execution_count": 2,
      "outputs": [
        {
          "output_type": "stream",
          "text": [
            "num5\n",
            "1\n",
            "2\n",
            "3\n",
            "4\n",
            "5\n"
          ],
          "name": "stdout"
        }
      ]
    },
    {
      "cell_type": "code",
      "metadata": {
        "id": "bBx-hRWgXssf",
        "colab_type": "code",
        "colab": {
          "base_uri": "https://localhost:8080/",
          "height": 51
        },
        "outputId": "748c2a1e-6c1a-45e4-f180-6ab2ff737899"
      },
      "source": [
        "n=int(input(\"enter the number\"))\n",
        "sum=0\n",
        "while n!=0:\n",
        "    r=n%10\n",
        "    sum=sum+r\n",
        "    n=n//10\n",
        "print(sum)"
      ],
      "execution_count": 3,
      "outputs": [
        {
          "output_type": "stream",
          "text": [
            "enter the number123\n",
            "6\n"
          ],
          "name": "stdout"
        }
      ]
    },
    {
      "cell_type": "markdown",
      "metadata": {
        "id": "vZx9u-rXZDYY",
        "colab_type": "text"
      },
      "source": [
        "# sum of digits of a number\n",
        "\n"
      ]
    },
    {
      "cell_type": "code",
      "metadata": {
        "id": "Hn4UvOTcZNGA",
        "colab_type": "code",
        "colab": {
          "base_uri": "https://localhost:8080/",
          "height": 51
        },
        "outputId": "73afd0c4-35cb-4129-e123-e4eb4f76a1dc"
      },
      "source": [
        "# printing digits of a number in reverse order\n",
        "n=int(input(\"enter the num\"))\n",
        "while n!=0:\n",
        "    r=n%10\n",
        "    print(r,end=\" \")\n",
        "    n=n//10"
      ],
      "execution_count": 8,
      "outputs": [
        {
          "output_type": "stream",
          "text": [
            "enter the num365\n",
            "5 6 3 "
          ],
          "name": "stdout"
        }
      ]
    },
    {
      "cell_type": "code",
      "metadata": {
        "id": "HJmw4yzGZOpn",
        "colab_type": "code",
        "colab": {
          "base_uri": "https://localhost:8080/",
          "height": 187
        },
        "outputId": "9c8a1acf-f6b7-4a18-c759-1bf15f6fc6cb"
      },
      "source": [
        "# print 0 to 9 numbers\n",
        "for i in range(0,10):\n",
        "  print(i)"
      ],
      "execution_count": 11,
      "outputs": [
        {
          "output_type": "stream",
          "text": [
            "0\n",
            "1\n",
            "2\n",
            "3\n",
            "4\n",
            "5\n",
            "6\n",
            "7\n",
            "8\n",
            "9\n"
          ],
          "name": "stdout"
        }
      ]
    },
    {
      "cell_type": "code",
      "metadata": {
        "id": "YYg95j4EfLpC",
        "colab_type": "code",
        "colab": {
          "base_uri": "https://localhost:8080/",
          "height": 187
        },
        "outputId": "c10269f6-5959-4f23-f589-671542eaac7d"
      },
      "source": [
        "# print 01 to 10 numbers\n",
        "for i in range(1,11):\n",
        "  print(i)"
      ],
      "execution_count": 12,
      "outputs": [
        {
          "output_type": "stream",
          "text": [
            "1\n",
            "2\n",
            "3\n",
            "4\n",
            "5\n",
            "6\n",
            "7\n",
            "8\n",
            "9\n",
            "10\n"
          ],
          "name": "stdout"
        }
      ]
    },
    {
      "cell_type": "code",
      "metadata": {
        "id": "LWagwLEJfgmw",
        "colab_type": "code",
        "colab": {
          "base_uri": "https://localhost:8080/",
          "height": 102
        },
        "outputId": "a5f16dd1-45aa-4bea-f8f7-9c064f9f1325"
      },
      "source": [
        "# print 0 to 9 numbers winth diff 2\n",
        "for i in range(0,10,2):\n",
        "  print(i)"
      ],
      "execution_count": 13,
      "outputs": [
        {
          "output_type": "stream",
          "text": [
            "0\n",
            "2\n",
            "4\n",
            "6\n",
            "8\n"
          ],
          "name": "stdout"
        }
      ]
    },
    {
      "cell_type": "code",
      "metadata": {
        "id": "Lz2ZFJvBfs2X",
        "colab_type": "code",
        "colab": {
          "base_uri": "https://localhost:8080/",
          "height": 119
        },
        "outputId": "68931615-41fb-4b9d-cfec-fbc26618242b"
      },
      "source": [
        "for i in \"python\":\n",
        "  print(i)"
      ],
      "execution_count": 15,
      "outputs": [
        {
          "output_type": "stream",
          "text": [
            "p\n",
            "y\n",
            "t\n",
            "h\n",
            "o\n",
            "n\n"
          ],
          "name": "stdout"
        }
      ]
    },
    {
      "cell_type": "code",
      "metadata": {
        "id": "lzMS8JB0ftSY",
        "colab_type": "code",
        "colab": {
          "base_uri": "https://localhost:8080/",
          "height": 34
        },
        "outputId": "61c5d7c9-8687-4108-ff3f-89ddfeab3a61"
      },
      "source": [
        "# addition of two numbers\n",
        "def addition(a,b):\n",
        "    c=a+b\n",
        "    print(c)\n",
        "addition(10,85)"
      ],
      "execution_count": 17,
      "outputs": [
        {
          "output_type": "stream",
          "text": [
            "95\n"
          ],
          "name": "stdout"
        }
      ]
    },
    {
      "cell_type": "code",
      "metadata": {
        "id": "qeuCDErglHHa",
        "colab_type": "code",
        "colab": {
          "base_uri": "https://localhost:8080/",
          "height": 34
        },
        "outputId": "5635f4f2-947c-49e5-c145-e2bbbd020f71"
      },
      "source": [
        "def evendigsum(n):\n",
        "    sum=0\n",
        "    while n!=0:\n",
        "      r=n%10\n",
        "      if r%2==0:\n",
        "        sum=sum+r\n",
        "      n=n//10\n",
        "    return sum\n",
        "evendigsum(4862)"
      ],
      "execution_count": 22,
      "outputs": [
        {
          "output_type": "execute_result",
          "data": {
            "text/plain": [
              "20"
            ]
          },
          "metadata": {
            "tags": []
          },
          "execution_count": 22
        }
      ]
    },
    {
      "cell_type": "code",
      "metadata": {
        "id": "v2Q6buBmftWn",
        "colab_type": "code",
        "colab": {
          "base_uri": "https://localhost:8080/",
          "height": 34
        },
        "outputId": "65dd6e1c-8231-4410-dff9-716a69d69a8d"
      },
      "source": [
        "def large(n):\n",
        "  large=0\n",
        "  while n!=0:\n",
        "    r=n%10\n",
        "    if large<r:\n",
        "      large=r\n",
        "    n=n//10\n",
        "  return large\n",
        "large(253)"
      ],
      "execution_count": 28,
      "outputs": [
        {
          "output_type": "execute_result",
          "data": {
            "text/plain": [
              "5"
            ]
          },
          "metadata": {
            "tags": []
          },
          "execution_count": 28
        }
      ]
    },
    {
      "cell_type": "code",
      "metadata": {
        "id": "kNBrZnSDsnRj",
        "colab_type": "code",
        "colab": {}
      },
      "source": [
        "# palindrome or not\n",
        "def pal(n):\n",
        "  p=0\n",
        "  x=n\n",
        "  while n!=0:\n",
        "    r=n%10\n",
        "    n=n//10\n",
        "    p=p*10+r\n",
        "    if p==x:\n",
        "      return \"palindrome\"\n",
        "    else:\n",
        "      return \"not a palindrome\"\n",
        "  print(pal(121))"
      ],
      "execution_count": 0,
      "outputs": []
    }
  ]
}